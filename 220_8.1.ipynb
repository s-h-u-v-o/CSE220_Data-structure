{
  "nbformat": 4,
  "nbformat_minor": 0,
  "metadata": {
    "colab": {
      "provenance": []
    },
    "kernelspec": {
      "name": "python3",
      "display_name": "Python 3"
    },
    "language_info": {
      "name": "python"
    }
  },
  "cells": [
    {
      "cell_type": "code",
      "execution_count": 2,
      "metadata": {
        "id": "JpnygXnB-WA2"
      },
      "outputs": [],
      "source": [
        "import numpy as np"
      ]
    },
    {
      "cell_type": "code",
      "source": [
        "class Node:\n",
        "  def __init__(self, ng, next = None):\n",
        "    self.ng = ng\n",
        "    self.next = next"
      ],
      "metadata": {
        "id": "p8bR0Zgr8e12"
      },
      "execution_count": null,
      "outputs": []
    },
    {
      "cell_type": "markdown",
      "source": [
        "# Undirected"
      ],
      "metadata": {
        "id": "TnsA0rC3JguH"
      }
    },
    {
      "cell_type": "code",
      "source": [
        "class matGraph:\n",
        "  def __init__(self, vertices, edges = [], weight = 1):\n",
        "    self.vertices = vertices\n",
        "    self.matrix = np.zeros((len(vertices), len(vertices)), dtype = int)\n",
        "    self.edges = edges\n",
        "    self.addedges(edges, weight)\n",
        "\n",
        "  def addedges(self, edges, weight = 1):\n",
        "    if len(edges[0]) != 3:\n",
        "      for edge in edges:\n",
        "        self.matrix[edge[0]][edge[1]] = weight\n",
        "        self.matrix[edge[1]][edge[0]] = weight\n",
        "    else:\n",
        "      for edge in edges:\n",
        "        self.matrix[edge[0]][edge[1]] = edge[2]\n",
        "        self.matrix[edge[1]][edge[0]] = edge[2]\n",
        "    return self.matrix\n",
        "\n",
        "  def maxdegree(self):\n",
        "    max_degree = 0\n",
        "    vertex = -1\n",
        "    for ver in range(len(self.matrix)):\n",
        "      degree = 0\n",
        "      for neighbor in range(len(self.matrix)):\n",
        "        if self.matrix[ver][neighbor] != 0:\n",
        "          degree += 1\n",
        "      if degree > max_degree:\n",
        "        max_degree = degree\n",
        "        vertex = ver\n",
        "    return vertex, max_degree\n",
        "\n",
        "  def edgeweight(self):\n",
        "    max_wei = 0\n",
        "    vertex = -1\n",
        "    for ver in range(len(self.matrix)):\n",
        "      wei = 0\n",
        "      for neighbor in range(len(self.matrix)):\n",
        "        if self.matrix[ver][neighbor] != 0:\n",
        "          wei += self.matrix[ver][neighbor]\n",
        "      if wei > max_wei:\n",
        "        max_wei = wei\n",
        "        vertex = ver\n",
        "    return vertex, max_wei\n",
        "\n",
        "\n",
        "class linkGraph:\n",
        "  def __init__(self, vertices, edges [], weight = 1):\n",
        "    self.vertices = vertices\n",
        "    self.li = Node(vertices[0])\n",
        "    self.lihead = self.li\n",
        "    for i in vertices[1:]:\n",
        "      self.li.next = Node(i)\n",
        "      self.li = self.li.next\n",
        "    self.edges = edges\n",
        "    self.addedges(edges, weight)\n",
        "\n",
        "  def addedges(self, edges, weight = 1)\n",
        "    if len(edges[0]) != 3:\n",
        "\n",
        "    return self.matrix"
      ],
      "metadata": {
        "id": "pWjTVe2cJWwl"
      },
      "execution_count": null,
      "outputs": []
    },
    {
      "cell_type": "markdown",
      "source": [
        "# Directed"
      ],
      "metadata": {
        "id": "4ALyuyjxJdcE"
      }
    },
    {
      "cell_type": "code",
      "source": [
        "class mat2Graph:\n",
        "  def __init__(self, vertices, edges, weight = 1):\n",
        "    self.vertices = vertices\n",
        "    self.matrix = np.zeros((len(vertices), len(vertices)), dtype = int)\n",
        "    self.edges = edges\n",
        "    self.addedges(edges, weight)\n",
        "    self.weight = weight\n",
        "\n",
        "  def addedges(self, edges, weight = 1):\n",
        "    if len(edges[0]) != 3:\n",
        "      for edge in edges:\n",
        "        self.matrix[edge[0]][edge[1]] = weight\n",
        "    else:\n",
        "      for edge in edges:\n",
        "        self.matrix[edge[0]][edge[1]] = edge[2]\n",
        "    return self.matrix\n",
        "\n",
        "  def maxdegree(self):\n",
        "    max_degree = 0\n",
        "    vertex = -1\n",
        "    for ver in range(len(self.matrix)):\n",
        "      degree = 0\n",
        "      for neighbor in range(len(self.matrix)):\n",
        "        if self.matrix[ver][neighbor] != 0:\n",
        "          degree += 1\n",
        "      if degree > max_degree:\n",
        "        max_degree = degree\n",
        "        vertex = ver\n",
        "    return vertex, max_degree\n",
        "\n",
        "  def edgeweight(self):\n",
        "    max_wei = 0\n",
        "    vertex = -1\n",
        "    for ver in range(len(self.matrix)):\n",
        "      wei = 0\n",
        "      for neighbor in range(len(self.matrix)):\n",
        "        if self.matrix[ver][neighbor] != 0:\n",
        "          wei += self.matrix[ver][neighbor]\n",
        "      if wei > max_wei:\n",
        "        max_wei = wei\n",
        "        vertex = ver\n",
        "    return vertex, max_wei\n",
        "\n",
        "  def unwei(self):\n",
        "    for ver in range(len(self.matrix)):\n",
        "      for j in range(len(self.matrix)):\n",
        "        if self.matrix[ver][j] != 0:\n",
        "          self.matrix[ver][j] = 1\n",
        "          self.matrix[j][ver] = 1\n",
        "    return self.matrix"
      ],
      "metadata": {
        "id": "CxvdTKm1JcgP"
      },
      "execution_count": null,
      "outputs": []
    },
    {
      "cell_type": "markdown",
      "source": [
        "# Task 1"
      ],
      "metadata": {
        "id": "aGgwQkNzAh-J"
      }
    },
    {
      "cell_type": "code",
      "source": [
        "#Driver code Matrix\n",
        "vertices = [0,1,2,3,4,5,6]\n",
        "edges = [(0,1), (0,3), (0,6),\n",
        "(1, 2), (1, 3), (1, 4),\n",
        "(2, 5),\n",
        "(3, 4), (3,6),\n",
        "(4,0),\n",
        "(5, 1), (5,3), (5,4),\n",
        "(6, 1) , (6,0)]\n",
        "\n",
        "graph = matGraph(vertices, edges)\n",
        "print(graph.matrix)\n",
        "print(\"----------------------\")\n",
        "print(graph.maxdegree())"
      ],
      "metadata": {
        "colab": {
          "base_uri": "https://localhost:8080/"
        },
        "id": "-iJ8kWa2_ZTf",
        "outputId": "64d70412-6997-4324-afdf-befb258d0ab0"
      },
      "execution_count": 26,
      "outputs": [
        {
          "output_type": "stream",
          "name": "stdout",
          "text": [
            "[[0 1 0 1 1 0 1]\n",
            " [1 0 1 1 1 1 1]\n",
            " [0 1 0 0 0 1 0]\n",
            " [1 1 0 0 1 1 1]\n",
            " [1 1 0 1 0 1 0]\n",
            " [0 1 1 1 1 0 0]\n",
            " [1 1 0 1 0 0 0]]\n",
            "----------------------\n",
            "(1, 6)\n"
          ]
        }
      ]
    },
    {
      "cell_type": "markdown",
      "source": [
        "# Task 2"
      ],
      "metadata": {
        "id": "mgd4kPpr_XLt"
      }
    },
    {
      "cell_type": "code",
      "source": [
        "#Driver code Matrix\n",
        "vertices = [0,1,2,3,4,5,6]\n",
        "edges = [(0, 1, 4), (0, 3, 7), (0, 6, 2),\n",
        "(1, 2, 3), (1, 3, 2), (1, 4, 9),\n",
        "(2, 5, 8),\n",
        "(3, 4, 11), (3,6, 5),\n",
        "(4, 0, 12),\n",
        "(5, 1, 18), (5, 3, 10), (5, 4, 13),\n",
        "(6, 1, 19) , (6, 0, 2)]\n",
        "graph2 = matGraph(vertices, edges)\n",
        "print(graph2.matrix)\n",
        "print(\"----------------------\")\n",
        "print(graph2.edgeweight())"
      ],
      "metadata": {
        "colab": {
          "base_uri": "https://localhost:8080/"
        },
        "id": "Xjztdshu3Yfy",
        "outputId": "c560f595-fa4e-4542-c16d-3c4f1ed0e044"
      },
      "execution_count": 23,
      "outputs": [
        {
          "output_type": "stream",
          "name": "stdout",
          "text": [
            "[[ 0  4  0  7 12  0  2]\n",
            " [ 4  0  3  2  9 18 19]\n",
            " [ 0  3  0  0  0  8  0]\n",
            " [ 7  2  0  0 11 10  5]\n",
            " [12  9  0 11  0 13  0]\n",
            " [ 0 18  8 10 13  0  0]\n",
            " [ 2 19  0  5  0  0  0]]\n",
            "----------------------\n",
            "(1, 55)\n"
          ]
        }
      ]
    },
    {
      "cell_type": "markdown",
      "source": [
        "# Task 3"
      ],
      "metadata": {
        "id": "qZyxGSZW_e-n"
      }
    },
    {
      "cell_type": "code",
      "source": [
        "#Driver code Matrix\n",
        "vertices = [0,1,2,3,4,5,6]\n",
        "edges = [(0,1), (0,3), (0,6),\n",
        "(1, 2), (1, 3), (1, 4),\n",
        "(2, 5),\n",
        "(3, 4), (3,6),\n",
        "(4,0),\n",
        "(5, 1), (5,3), (5,4),\n",
        "(6, 1) , (6,0)]\n",
        "\n",
        "graph3 = mat2Graph(vertices, edges)\n",
        "print(graph3.matrix)\n",
        "print(\"----------------------\")\n",
        "print(graph3.maxdegree())\n",
        "\n",
        "print(\"======================\")\n",
        "\n",
        "vertices = [0,1,2,3,4,5,6]\n",
        "edges = [(0, 1, 4), (0, 3, 7), (0, 6, 2),\n",
        "(1, 2, 3), (1, 3, 2), (1, 4, 9),\n",
        "(2, 5, 8),\n",
        "(3, 4, 11), (3,6, 5),\n",
        "(4, 0, 12),\n",
        "(5, 1, 18), (5, 3, 10), (5, 4, 13),\n",
        "(6, 1, 19) , (6, 0, 2)]\n",
        "graph4 = mat2Graph(vertices, edges)\n",
        "print(graph4.matrix)\n",
        "print(\"----------------------\")\n",
        "print(graph4.edgeweight())"
      ],
      "metadata": {
        "colab": {
          "base_uri": "https://localhost:8080/"
        },
        "id": "vS2THJub_gpH",
        "outputId": "f3ff27f8-9d49-4513-b9b6-911cd40090bf"
      },
      "execution_count": 30,
      "outputs": [
        {
          "output_type": "stream",
          "name": "stdout",
          "text": [
            "[[0 1 0 1 0 0 1]\n",
            " [0 0 1 1 1 0 0]\n",
            " [0 0 0 0 0 1 0]\n",
            " [0 0 0 0 1 0 1]\n",
            " [1 0 0 0 0 0 0]\n",
            " [0 1 0 1 1 0 0]\n",
            " [1 1 0 0 0 0 0]]\n",
            "----------------------\n",
            "(0, 3)\n",
            "======================\n",
            "[[ 0  4  0  7  0  0  2]\n",
            " [ 0  0  3  2  9  0  0]\n",
            " [ 0  0  0  0  0  8  0]\n",
            " [ 0  0  0  0 11  0  5]\n",
            " [12  0  0  0  0  0  0]\n",
            " [ 0 18  0 10 13  0  0]\n",
            " [ 2 19  0  0  0  0  0]]\n",
            "----------------------\n",
            "(5, 41)\n"
          ]
        }
      ]
    },
    {
      "cell_type": "markdown",
      "source": [
        "# Task 4"
      ],
      "metadata": {
        "id": "HpbZqEV5AkXQ"
      }
    },
    {
      "cell_type": "code",
      "source": [
        "#Driver code Matrix\n",
        "vertices = [0,1,2,3,4,5,6]\n",
        "edges = [(0, 1, 4), (0, 3, 7), (0, 6, 2),\n",
        "(1, 2, 3), (1, 3, 2), (1, 4, 9),\n",
        "(2, 5, 8),\n",
        "(3, 4, 11), (3,6, 5),\n",
        "(4, 0, 12),\n",
        "(5, 1, 18), (5, 3, 10), (5, 4, 13),\n",
        "(6, 1, 19) , (6, 0, 2)]\n",
        "graph5 = mat2Graph(vertices, edges)\n",
        "print(graph5.matrix)\n",
        "print(\"----------------------\")\n",
        "print(graph5.unwei())"
      ],
      "metadata": {
        "colab": {
          "base_uri": "https://localhost:8080/"
        },
        "id": "Xccqy5CRAlpf",
        "outputId": "a63a7072-f8cd-447a-8d6b-1d2da8e26d8b"
      },
      "execution_count": 31,
      "outputs": [
        {
          "output_type": "stream",
          "name": "stdout",
          "text": [
            "[[ 0  4  0  7  0  0  2]\n",
            " [ 0  0  3  2  9  0  0]\n",
            " [ 0  0  0  0  0  8  0]\n",
            " [ 0  0  0  0 11  0  5]\n",
            " [12  0  0  0  0  0  0]\n",
            " [ 0 18  0 10 13  0  0]\n",
            " [ 2 19  0  0  0  0  0]]\n",
            "----------------------\n",
            "[[0 1 0 1 1 0 1]\n",
            " [1 0 1 1 1 1 1]\n",
            " [0 1 0 0 0 1 0]\n",
            " [1 1 0 0 1 1 1]\n",
            " [1 1 0 1 0 1 0]\n",
            " [0 1 1 1 1 0 0]\n",
            " [1 1 0 1 0 0 0]]\n"
          ]
        }
      ]
    }
  ]
}